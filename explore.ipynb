{
 "cells": [
  {
   "cell_type": "code",
   "execution_count": 1,
   "metadata": {
    "collapsed": true
   },
   "outputs": [],
   "source": [
    "import itertools\n",
    "import numpy as np\n",
    "import audiolabel.util\n",
    "import matplotlib\n",
    "\n",
    "%matplotlib inline"
   ]
  },
  {
   "cell_type": "code",
   "execution_count": 2,
   "metadata": {},
   "outputs": [
    {
     "data": {
      "text/html": [
       "<div>\n",
       "<style>\n",
       "    .dataframe thead tr:only-child th {\n",
       "        text-align: right;\n",
       "    }\n",
       "\n",
       "    .dataframe thead th {\n",
       "        text-align: left;\n",
       "    }\n",
       "\n",
       "    .dataframe tbody tr th {\n",
       "        vertical-align: top;\n",
       "    }\n",
       "</style>\n",
       "<table border=\"1\" class=\"dataframe\">\n",
       "  <thead>\n",
       "    <tr style=\"text-align: right;\">\n",
       "      <th></th>\n",
       "      <th>samples</th>\n",
       "      <th>nonpadded_length</th>\n",
       "      <th>labels_ohe</th>\n",
       "    </tr>\n",
       "  </thead>\n",
       "  <tbody>\n",
       "    <tr>\n",
       "      <th>0</th>\n",
       "      <td>[[0.886560577557, 0.444834400121, 0.5135257155...</td>\n",
       "      <td>199.0</td>\n",
       "      <td>[0, 0, 1, 0, 1, 0, 0]</td>\n",
       "    </tr>\n",
       "    <tr>\n",
       "      <th>1</th>\n",
       "      <td>[[0.858467235214, 0.58577094939, 0.57740595890...</td>\n",
       "      <td>199.0</td>\n",
       "      <td>[0, 0, 0, 0, 1, 0, 0]</td>\n",
       "    </tr>\n",
       "    <tr>\n",
       "      <th>2</th>\n",
       "      <td>[[0.0, 0.591527072745, 0.616995645262, 0.56399...</td>\n",
       "      <td>199.0</td>\n",
       "      <td>[1, 0, 1, 1, 0, 0, 0]</td>\n",
       "    </tr>\n",
       "    <tr>\n",
       "      <th>3</th>\n",
       "      <td>[[0.887629171882, 0.460921320313, 0.5923310722...</td>\n",
       "      <td>199.0</td>\n",
       "      <td>[0, 0, 1, 0, 0, 0, 0]</td>\n",
       "    </tr>\n",
       "    <tr>\n",
       "      <th>4</th>\n",
       "      <td>[[0.803741140678, 0.43294598433, 0.49309186990...</td>\n",
       "      <td>199.0</td>\n",
       "      <td>[0, 0, 0, 0, 1, 0, 0]</td>\n",
       "    </tr>\n",
       "  </tbody>\n",
       "</table>\n",
       "</div>"
      ],
      "text/plain": [
       "                                             samples  nonpadded_length  \\\n",
       "0  [[0.886560577557, 0.444834400121, 0.5135257155...             199.0   \n",
       "1  [[0.858467235214, 0.58577094939, 0.57740595890...             199.0   \n",
       "2  [[0.0, 0.591527072745, 0.616995645262, 0.56399...             199.0   \n",
       "3  [[0.887629171882, 0.460921320313, 0.5923310722...             199.0   \n",
       "4  [[0.803741140678, 0.43294598433, 0.49309186990...             199.0   \n",
       "\n",
       "              labels_ohe  \n",
       "0  [0, 0, 1, 0, 1, 0, 0]  \n",
       "1  [0, 0, 0, 0, 1, 0, 0]  \n",
       "2  [1, 0, 1, 1, 0, 0, 0]  \n",
       "3  [0, 0, 1, 0, 0, 0, 0]  \n",
       "4  [0, 0, 0, 0, 1, 0, 0]  "
      ]
     },
     "execution_count": 2,
     "metadata": {},
     "output_type": "execute_result"
    }
   ],
   "source": [
    "data = audiolabel.util.read_data('pp_data/train.h5')\n",
    "data.head()"
   ]
  },
  {
   "cell_type": "code",
   "execution_count": null,
   "metadata": {
    "collapsed": true
   },
   "outputs": [],
   "source": []
  },
  {
   "cell_type": "code",
   "execution_count": 3,
   "metadata": {},
   "outputs": [
    {
     "data": {
      "text/plain": [
       "array([[<matplotlib.axes._subplots.AxesSubplot object at 0x7efedff00310>]], dtype=object)"
      ]
     },
     "execution_count": 3,
     "metadata": {},
     "output_type": "execute_result"
    },
    {
     "data": {
      "image/png": "[encoded data removed]",
      "text/plain": [
       "<matplotlib.figure.Figure at 0x7efee0146910>"
      ]
     },
     "metadata": {},
     "output_type": "display_data"
    }
   ],
   "source": [
    "data.hist(column='nonpadded_length', bins=100)"
   ]
  },
  {
   "cell_type": "code",
   "execution_count": 4,
   "metadata": {},
   "outputs": [
    {
     "data": {
      "text/plain": [
       "array([[<matplotlib.axes._subplots.AxesSubplot object at 0x7efedfd71d10>]], dtype=object)"
      ]
     },
     "execution_count": 4,
     "metadata": {},
     "output_type": "execute_result"
    },
    {
     "data": {
      "image/png": "[encoded data removed]",
      "text/plain": [
       "<matplotlib.figure.Figure at 0x7efedfddc4d0>"
      ]
     },
     "metadata": {},
     "output_type": "display_data"
    }
   ],
   "source": [
    "data['n_labels'] = data['labels_ohe'].apply(np.sum)\n",
    "data.hist(column='n_labels', bins=12)"
   ]
  },
  {
   "cell_type": "code",
   "execution_count": 5,
   "metadata": {},
   "outputs": [
    {
     "data": {
      "text/html": [
       "<div>\n",
       "<style>\n",
       "    .dataframe thead tr:only-child th {\n",
       "        text-align: right;\n",
       "    }\n",
       "\n",
       "    .dataframe thead th {\n",
       "        text-align: left;\n",
       "    }\n",
       "\n",
       "    .dataframe tbody tr th {\n",
       "        vertical-align: top;\n",
       "    }\n",
       "</style>\n",
       "<table border=\"1\" class=\"dataframe\">\n",
       "  <thead>\n",
       "    <tr style=\"text-align: right;\">\n",
       "      <th></th>\n",
       "      <th>samples</th>\n",
       "      <th>nonpadded_length</th>\n",
       "      <th>labels_ohe</th>\n",
       "      <th>n_labels</th>\n",
       "      <th>labels</th>\n",
       "    </tr>\n",
       "  </thead>\n",
       "  <tbody>\n",
       "    <tr>\n",
       "      <th>0</th>\n",
       "      <td>[[0.886560577557, 0.444834400121, 0.5135257155...</td>\n",
       "      <td>199.0</td>\n",
       "      <td>[0, 0, 1, 0, 1, 0, 0]</td>\n",
       "      <td>2</td>\n",
       "      <td>[2, 4]</td>\n",
       "    </tr>\n",
       "    <tr>\n",
       "      <th>1</th>\n",
       "      <td>[[0.858467235214, 0.58577094939, 0.57740595890...</td>\n",
       "      <td>199.0</td>\n",
       "      <td>[0, 0, 0, 0, 1, 0, 0]</td>\n",
       "      <td>1</td>\n",
       "      <td>[4]</td>\n",
       "    </tr>\n",
       "    <tr>\n",
       "      <th>2</th>\n",
       "      <td>[[0.0, 0.591527072745, 0.616995645262, 0.56399...</td>\n",
       "      <td>199.0</td>\n",
       "      <td>[1, 0, 1, 1, 0, 0, 0]</td>\n",
       "      <td>3</td>\n",
       "      <td>[0, 2, 3]</td>\n",
       "    </tr>\n",
       "    <tr>\n",
       "      <th>3</th>\n",
       "      <td>[[0.887629171882, 0.460921320313, 0.5923310722...</td>\n",
       "      <td>199.0</td>\n",
       "      <td>[0, 0, 1, 0, 0, 0, 0]</td>\n",
       "      <td>1</td>\n",
       "      <td>[2]</td>\n",
       "    </tr>\n",
       "    <tr>\n",
       "      <th>4</th>\n",
       "      <td>[[0.803741140678, 0.43294598433, 0.49309186990...</td>\n",
       "      <td>199.0</td>\n",
       "      <td>[0, 0, 0, 0, 1, 0, 0]</td>\n",
       "      <td>1</td>\n",
       "      <td>[4]</td>\n",
       "    </tr>\n",
       "  </tbody>\n",
       "</table>\n",
       "</div>"
      ],
      "text/plain": [
       "                                             samples  nonpadded_length  \\\n",
       "0  [[0.886560577557, 0.444834400121, 0.5135257155...             199.0   \n",
       "1  [[0.858467235214, 0.58577094939, 0.57740595890...             199.0   \n",
       "2  [[0.0, 0.591527072745, 0.616995645262, 0.56399...             199.0   \n",
       "3  [[0.887629171882, 0.460921320313, 0.5923310722...             199.0   \n",
       "4  [[0.803741140678, 0.43294598433, 0.49309186990...             199.0   \n",
       "\n",
       "              labels_ohe  n_labels     labels  \n",
       "0  [0, 0, 1, 0, 1, 0, 0]         2     [2, 4]  \n",
       "1  [0, 0, 0, 0, 1, 0, 0]         1        [4]  \n",
       "2  [1, 0, 1, 1, 0, 0, 0]         3  [0, 2, 3]  \n",
       "3  [0, 0, 1, 0, 0, 0, 0]         1        [2]  \n",
       "4  [0, 0, 0, 0, 1, 0, 0]         1        [4]  "
      ]
     },
     "execution_count": 5,
     "metadata": {},
     "output_type": "execute_result"
    }
   ],
   "source": [
    "data['labels'] = data['labels_ohe'].apply(np.nonzero).apply(lambda labels: labels[0])\n",
    "data.head()"
   ]
  },
  {
   "cell_type": "code",
   "execution_count": 6,
   "metadata": {},
   "outputs": [
    {
     "data": {
      "text/plain": [
       "(array([ 8675.,     0.,     0.,     0.,  1015.,     0.,     0.,     0.,\n",
       "         7862.,     0.,     0.,     0.,  2438.,     0.,     0.,     0.,\n",
       "         8282.,     0.,     0.,     0.,  3255.,     0.,     0.,     0.,\n",
       "         2304.]),\n",
       " array([ 0.  ,  0.24,  0.48,  0.72,  0.96,  1.2 ,  1.44,  1.68,  1.92,\n",
       "         2.16,  2.4 ,  2.64,  2.88,  3.12,  3.36,  3.6 ,  3.84,  4.08,\n",
       "         4.32,  4.56,  4.8 ,  5.04,  5.28,  5.52,  5.76,  6.  ]),\n",
       " <a list of 25 Patch objects>)"
      ]
     },
     "execution_count": 6,
     "metadata": {},
     "output_type": "execute_result"
    },
    {
     "data": {
      "image/png": "[encoded data removed]",
      "text/plain": [
       "<matplotlib.figure.Figure at 0x7efedc2f7a50>"
      ]
     },
     "metadata": {},
     "output_type": "display_data"
    }
   ],
   "source": [
    "matplotlib.pyplot.hist(list(itertools.chain.from_iterable(data['labels'].ravel().flat)), bins='auto')"
   ]
  },
  {
   "cell_type": "code",
   "execution_count": 7,
   "metadata": {},
   "outputs": [
    {
     "data": {
      "text/plain": [
       "array([ 0.25642163,  0.03000207,  0.23239041,  0.07206408,  0.24480506,\n",
       "        0.09621353,  0.06810322])"
      ]
     },
     "execution_count": 7,
     "metadata": {},
     "output_type": "execute_result"
    }
   ],
   "source": [
    "#data[data['labels_ohe'].isin([[1, 0, 0, 0, 0, 0, 0],])]['labels'].apply(lambda x: x[0]).hist()\n",
    "x = np.array([ 8675.,  1015.,  7862.,  2438.,  8282.,  3255.,  2304.])\n",
    "x / x.sum()"
   ]
  },
  {
   "cell_type": "code",
   "execution_count": null,
   "metadata": {
    "collapsed": true
   },
   "outputs": [],
   "source": []
  }
 ],
 "metadata": {
  "kernelspec": {
   "display_name": "Python 2",
   "language": "python",
   "name": "python2"
  },
  "language_info": {
   "codemirror_mode": {
    "name": "ipython",
    "version": 2
   },
   "file_extension": ".py",
   "mimetype": "text/x-python",
   "name": "python",
   "nbconvert_exporter": "python",
   "pygments_lexer": "ipython2",
   "version": "2.7.12"
  }
 },
 "nbformat": 4,
 "nbformat_minor": 2
}
